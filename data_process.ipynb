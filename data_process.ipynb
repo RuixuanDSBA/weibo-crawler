{
 "cells": [
  {
   "attachments": {},
   "cell_type": "markdown",
   "metadata": {},
   "source": [
    "# 文件初步处理和除去重复值"
   ]
  },
  {
   "cell_type": "code",
   "execution_count": 7,
   "metadata": {},
   "outputs": [],
   "source": [
    "# import os\n",
    "# import codecs\n",
    "# # 如果文件无法在excel中显示，用这段代码来写入bom头\n",
    "# filename = '2559971200(utf8).csv'\n",
    "# folder_path = r\"C:\\Users\\alexr\\Desktop\\Project WEIBO\\weibo-crawler\\cleaned_weibo\"\n",
    "# file_path = os.path.join(folder_path, filename)\n",
    "\n",
    "# # 读取文件内容\n",
    "# with codecs.open(file_path, 'r', 'utf-8') as f:\n",
    "#     file_content = f.read()\n",
    "\n",
    "# # 在文件内容前添加BOM头\n",
    "# file_content = u'\\ufeff' + file_content\n",
    "\n",
    "# # 写入文件\n",
    "# with codecs.open(file_path, 'w', 'utf-8') as f:\n",
    "#     f.write(file_content)"
   ]
  },
  {
   "cell_type": "code",
   "execution_count": 2,
   "metadata": {},
   "outputs": [
    {
     "name": "stdout",
     "output_type": "stream",
     "text": [
      "reading files...1261788454(utf8).csv\n",
      "all unique, no duplicat in 1261788454(utf8).csv\n",
      "reading files...2559971200(original).csv\n",
      "Duplicate values removed in 2559971200(original).csv. Updated file saved.\n"
     ]
    }
   ],
   "source": [
    "import os\n",
    "import pandas as pd\n",
    "\n",
    "# 要读取的文件夹路径\n",
    "folder_path = r\"C:\\Users\\alexr\\Desktop\\Project WEIBO\\weibo-crawler\\temp_data\"\n",
    "\n",
    "# 函数将返回该数据框中具有重复链接的行的链接（link）列的值\n",
    "def new_func(df):\n",
    "    duplicate_ids = df.loc[df['duplicate_link'] == True, 'link']\n",
    "    return duplicate_ids\n",
    "def print_existfile(csv_files):\n",
    "    print(\"file: \" + csv_files[0])\n",
    "    print(\"file: \" + csv_files[1])\n",
    "\n",
    "# 获取文件夹中所有csv文件\n",
    "csv_files = [f for f in os.listdir(folder_path) if f.endswith('.csv')]\n",
    "# print_existfile(csv_files)\n",
    "\n",
    "for file in csv_files:\n",
    "    # 读取CSV文件\n",
    "    file_path = os.path.join(folder_path, file)\n",
    "    df = pd.read_csv(file_path, encoding='utf-8')\n",
    "    print(\"reading files...\" + file)\n",
    "\n",
    "    # 判断是否存在重复元素\n",
    "    if df.iloc[:, 0].nunique() == len(df):\n",
    "        print(\"all unique, no duplicat in \" + file)\n",
    "    else:\n",
    "        # 删除重复元素\n",
    "        df.drop_duplicates(subset=df.columns[0], keep='first', inplace=True)\n",
    "        # 保存修改后的CSV文件\n",
    "        df.to_csv(file_path, index=False, encoding='utf-8')\n",
    "        print(\"Duplicate values removed in \" + file + \". Updated file saved.\")\n",
    "        \n",
    "\n",
    "\n"
   ]
  },
  {
   "cell_type": "code",
   "execution_count": 7,
   "metadata": {},
   "outputs": [
    {
     "name": "stdout",
     "output_type": "stream",
     "text": [
      "file: 1261788454(utf8).csv\n",
      "file: 2559971200(original).csv\n",
      "Data sorted and filtered in file: 1261788454(utf8).csv\n",
      "Total comments for rows with '评论数' > 10000: 2181175\n",
      "Data sorted and filtered in file: 2559971200(original).csv\n",
      "Total comments for rows with '评论数' > 10000: 281430\n"
     ]
    }
   ],
   "source": [
    "# 要读取的文件夹路径\n",
    "folder_path = r\"C:\\Users\\alexr\\Desktop\\Project WEIBO\\weibo-crawler\\temp_data\"\n",
    "\n",
    "def print_existfile(csv_files):\n",
    "    print(\"file: \" + csv_files[0])\n",
    "    print(\"file: \" + csv_files[1])\n",
    "\n",
    "# 获取文件夹中所有csv文件\n",
    "csv_files = [f for f in os.listdir(folder_path) if f.endswith('.csv')]\n",
    "print_existfile(csv_files)\n",
    "\n",
    "# 遍历所有CSV文件\n",
    "for file in csv_files:\n",
    "    # 读取CSV文件\n",
    "    file_path = os.path.join(folder_path, file)\n",
    "    df = pd.read_csv(file_path, encoding='utf-8')\n",
    "    \n",
    "    # 按照 \"评论数\" 列降序排列\n",
    "    df_sorted = df.sort_values(by='评论数', ascending=False)\n",
    "    \n",
    "    # 仅保留 \"评论数\" 大于 10000 的行\n",
    "    df_filtered = df_sorted[df_sorted['评论数'] > 10000]\n",
    "    \n",
    "    # 计算评论数之和\n",
    "    total_comments = df_filtered['评论数'].sum()\n",
    "    \n",
    "    # 保存修改后的CSV文件\n",
    "    df_filtered.to_csv(file_path, index=False, encoding='utf-8')\n",
    "\n",
    "    print(\"Data sorted and filtered in file: \" + file)\n",
    "    print(\"Total comments for rows with '评论数' > 10000: \" + str(total_comments))\n",
    "\n"
   ]
  },
  {
   "cell_type": "code",
   "execution_count": 8,
   "metadata": {},
   "outputs": [
    {
     "name": "stdout",
     "output_type": "stream",
     "text": [
      "Columns filtered in file: 1261788454(utf8).csv\n",
      "Filtered data saved to file: C:\\Users\\alexr\\Desktop\\Project WEIBO\\weibo-crawler\\temp_data\\1261788454(utf8)_filtered.csv\n"
     ]
    },
    {
     "ename": "KeyError",
     "evalue": "\"['link'] not in index\"",
     "output_type": "error",
     "traceback": [
      "\u001b[1;31m---------------------------------------------------------------------------\u001b[0m",
      "\u001b[1;31mKeyError\u001b[0m                                  Traceback (most recent call last)",
      "\u001b[1;32mc:\\Users\\alexr\\Desktop\\Project WEIBO\\weibo-crawler\\data_process.ipynb Cell 5\u001b[0m in \u001b[0;36m8\n\u001b[0;32m      <a href='vscode-notebook-cell:/c%3A/Users/alexr/Desktop/Project%20WEIBO/weibo-crawler/data_process.ipynb#W5sZmlsZQ%3D%3D?line=4'>5</a>\u001b[0m df \u001b[39m=\u001b[39m pd\u001b[39m.\u001b[39mread_csv(file_path, encoding\u001b[39m=\u001b[39m\u001b[39m'\u001b[39m\u001b[39mutf-8\u001b[39m\u001b[39m'\u001b[39m)\n\u001b[0;32m      <a href='vscode-notebook-cell:/c%3A/Users/alexr/Desktop/Project%20WEIBO/weibo-crawler/data_process.ipynb#W5sZmlsZQ%3D%3D?line=6'>7</a>\u001b[0m \u001b[39m# 仅保留 \"link\" 列和 \"评论数\" 列\u001b[39;00m\n\u001b[1;32m----> <a href='vscode-notebook-cell:/c%3A/Users/alexr/Desktop/Project%20WEIBO/weibo-crawler/data_process.ipynb#W5sZmlsZQ%3D%3D?line=7'>8</a>\u001b[0m df_filtered \u001b[39m=\u001b[39m df[[\u001b[39m'\u001b[39;49m\u001b[39mlink\u001b[39;49m\u001b[39m'\u001b[39;49m, \u001b[39m'\u001b[39;49m\u001b[39m评论数\u001b[39;49m\u001b[39m'\u001b[39;49m]]\n\u001b[0;32m     <a href='vscode-notebook-cell:/c%3A/Users/alexr/Desktop/Project%20WEIBO/weibo-crawler/data_process.ipynb#W5sZmlsZQ%3D%3D?line=9'>10</a>\u001b[0m \u001b[39m# 构造新的文件名\u001b[39;00m\n\u001b[0;32m     <a href='vscode-notebook-cell:/c%3A/Users/alexr/Desktop/Project%20WEIBO/weibo-crawler/data_process.ipynb#W5sZmlsZQ%3D%3D?line=10'>11</a>\u001b[0m new_file_path \u001b[39m=\u001b[39m file_path\u001b[39m.\u001b[39mreplace(\u001b[39m'\u001b[39m\u001b[39m.csv\u001b[39m\u001b[39m'\u001b[39m, \u001b[39m'\u001b[39m\u001b[39m_filtered.csv\u001b[39m\u001b[39m'\u001b[39m)\n",
      "File \u001b[1;32m~\\AppData\\Local\\Packages\\PythonSoftwareFoundation.Python.3.10_qbz5n2kfra8p0\\LocalCache\\local-packages\\Python310\\site-packages\\pandas\\core\\frame.py:3810\u001b[0m, in \u001b[0;36mDataFrame.__getitem__\u001b[1;34m(self, key)\u001b[0m\n\u001b[0;32m   3808\u001b[0m     \u001b[39mif\u001b[39;00m is_iterator(key):\n\u001b[0;32m   3809\u001b[0m         key \u001b[39m=\u001b[39m \u001b[39mlist\u001b[39m(key)\n\u001b[1;32m-> 3810\u001b[0m     indexer \u001b[39m=\u001b[39m \u001b[39mself\u001b[39;49m\u001b[39m.\u001b[39;49mcolumns\u001b[39m.\u001b[39;49m_get_indexer_strict(key, \u001b[39m\"\u001b[39;49m\u001b[39mcolumns\u001b[39;49m\u001b[39m\"\u001b[39;49m)[\u001b[39m1\u001b[39m]\n\u001b[0;32m   3812\u001b[0m \u001b[39m# take() does not accept boolean indexers\u001b[39;00m\n\u001b[0;32m   3813\u001b[0m \u001b[39mif\u001b[39;00m \u001b[39mgetattr\u001b[39m(indexer, \u001b[39m\"\u001b[39m\u001b[39mdtype\u001b[39m\u001b[39m\"\u001b[39m, \u001b[39mNone\u001b[39;00m) \u001b[39m==\u001b[39m \u001b[39mbool\u001b[39m:\n",
      "File \u001b[1;32m~\\AppData\\Local\\Packages\\PythonSoftwareFoundation.Python.3.10_qbz5n2kfra8p0\\LocalCache\\local-packages\\Python310\\site-packages\\pandas\\core\\indexes\\base.py:6111\u001b[0m, in \u001b[0;36mIndex._get_indexer_strict\u001b[1;34m(self, key, axis_name)\u001b[0m\n\u001b[0;32m   6108\u001b[0m \u001b[39melse\u001b[39;00m:\n\u001b[0;32m   6109\u001b[0m     keyarr, indexer, new_indexer \u001b[39m=\u001b[39m \u001b[39mself\u001b[39m\u001b[39m.\u001b[39m_reindex_non_unique(keyarr)\n\u001b[1;32m-> 6111\u001b[0m \u001b[39mself\u001b[39;49m\u001b[39m.\u001b[39;49m_raise_if_missing(keyarr, indexer, axis_name)\n\u001b[0;32m   6113\u001b[0m keyarr \u001b[39m=\u001b[39m \u001b[39mself\u001b[39m\u001b[39m.\u001b[39mtake(indexer)\n\u001b[0;32m   6114\u001b[0m \u001b[39mif\u001b[39;00m \u001b[39misinstance\u001b[39m(key, Index):\n\u001b[0;32m   6115\u001b[0m     \u001b[39m# GH 42790 - Preserve name from an Index\u001b[39;00m\n",
      "File \u001b[1;32m~\\AppData\\Local\\Packages\\PythonSoftwareFoundation.Python.3.10_qbz5n2kfra8p0\\LocalCache\\local-packages\\Python310\\site-packages\\pandas\\core\\indexes\\base.py:6174\u001b[0m, in \u001b[0;36mIndex._raise_if_missing\u001b[1;34m(self, key, indexer, axis_name)\u001b[0m\n\u001b[0;32m   6171\u001b[0m     \u001b[39mraise\u001b[39;00m \u001b[39mKeyError\u001b[39;00m(\u001b[39mf\u001b[39m\u001b[39m\"\u001b[39m\u001b[39mNone of [\u001b[39m\u001b[39m{\u001b[39;00mkey\u001b[39m}\u001b[39;00m\u001b[39m] are in the [\u001b[39m\u001b[39m{\u001b[39;00maxis_name\u001b[39m}\u001b[39;00m\u001b[39m]\u001b[39m\u001b[39m\"\u001b[39m)\n\u001b[0;32m   6173\u001b[0m not_found \u001b[39m=\u001b[39m \u001b[39mlist\u001b[39m(ensure_index(key)[missing_mask\u001b[39m.\u001b[39mnonzero()[\u001b[39m0\u001b[39m]]\u001b[39m.\u001b[39munique())\n\u001b[1;32m-> 6174\u001b[0m \u001b[39mraise\u001b[39;00m \u001b[39mKeyError\u001b[39;00m(\u001b[39mf\u001b[39m\u001b[39m\"\u001b[39m\u001b[39m{\u001b[39;00mnot_found\u001b[39m}\u001b[39;00m\u001b[39m not in index\u001b[39m\u001b[39m\"\u001b[39m)\n",
      "\u001b[1;31mKeyError\u001b[0m: \"['link'] not in index\""
     ]
    }
   ],
   "source": [
    "# 遍历所有CSV文件\n",
    "for file in csv_files:\n",
    "    # 读取CSV文件\n",
    "    file_path = os.path.join(folder_path, file)\n",
    "    df = pd.read_csv(file_path, encoding='utf-8')\n",
    "\n",
    "    # 仅保留 \"link\" 列和 \"评论数\" 列\n",
    "    df_filtered = df[['link', '评论数']]\n",
    "    \n",
    "    # 构造新的文件名\n",
    "    new_file_path = file_path.replace('.csv', '_filtered.csv')\n",
    "    \n",
    "    # 保存筛选后的数据到新的CSV文件\n",
    "    df_filtered.to_csv(new_file_path, index=False, encoding='utf-8')\n",
    "\n",
    "    print(\"Columns filtered in file: \" + file)\n",
    "    print(\"Filtered data saved to file: \" + new_file_path)"
   ]
  },
  {
   "cell_type": "code",
   "execution_count": null,
   "metadata": {},
   "outputs": [],
   "source": []
  }
 ],
 "metadata": {
  "kernelspec": {
   "display_name": "Python 3",
   "language": "python",
   "name": "python3"
  },
  "language_info": {
   "codemirror_mode": {
    "name": "ipython",
    "version": 3
   },
   "file_extension": ".py",
   "mimetype": "text/x-python",
   "name": "python",
   "nbconvert_exporter": "python",
   "pygments_lexer": "ipython3",
   "version": "3.10.11"
  },
  "orig_nbformat": 4
 },
 "nbformat": 4,
 "nbformat_minor": 2
}
