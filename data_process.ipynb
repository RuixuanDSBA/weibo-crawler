{
 "cells": [
  {
   "attachments": {},
   "cell_type": "markdown",
   "metadata": {},
   "source": [
    "# 文件初步处理和除去重复值"
   ]
  },
  {
   "cell_type": "code",
   "execution_count": 7,
   "metadata": {},
   "outputs": [],
   "source": [
    "# import os\n",
    "# import codecs\n",
    "# # 如果文件无法在excel中显示，用这段代码来写入bom头\n",
    "# filename = '2559971200(utf8).csv'\n",
    "# folder_path = r\"C:\\Users\\alexr\\Desktop\\Project WEIBO\\weibo-crawler\\cleaned_weibo\"\n",
    "# file_path = os.path.join(folder_path, filename)\n",
    "\n",
    "# # 读取文件内容\n",
    "# with codecs.open(file_path, 'r', 'utf-8') as f:\n",
    "#     file_content = f.read()\n",
    "\n",
    "# # 在文件内容前添加BOM头\n",
    "# file_content = u'\\ufeff' + file_content\n",
    "\n",
    "# # 写入文件\n",
    "# with codecs.open(file_path, 'w', 'utf-8') as f:\n",
    "#     f.write(file_content)"
   ]
  },
  {
   "cell_type": "code",
   "execution_count": 3,
   "metadata": {},
   "outputs": [
    {
     "name": "stdout",
     "output_type": "stream",
     "text": [
      "reading files...1261788454(utf8).csv\n",
      "all unique, no duplicat in 1261788454(utf8).csv\n",
      "reading files...1261788454(utf8)_filtered.csv\n",
      "all unique, no duplicat in 1261788454(utf8)_filtered.csv\n",
      "reading files...2559971200(original).csv\n",
      "all unique, no duplicat in 2559971200(original).csv\n"
     ]
    }
   ],
   "source": [
    "import os\n",
    "import pandas as pd\n",
    "\n",
    "# 要读取的文件夹路径\n",
    "folder_path = r\"C:\\Users\\alexr\\Desktop\\Project WEIBO\\weibo-crawler\\temp_data\"\n",
    "\n",
    "# 函数将返回该数据框中具有重复链接的行的链接（link）列的值\n",
    "def new_func(df):\n",
    "    duplicate_ids = df.loc[df['duplicate_link'] == True, 'link']\n",
    "    return duplicate_ids\n",
    "def print_existfile(csv_files):\n",
    "    print(\"file: \" + csv_files[0])\n",
    "    print(\"file: \" + csv_files[1])\n",
    "\n",
    "# 获取文件夹中所有csv文件\n",
    "csv_files = [f for f in os.listdir(folder_path) if f.endswith('.csv')]\n",
    "# print_existfile(csv_files)\n",
    "\n",
    "for file in csv_files:\n",
    "    # 读取CSV文件\n",
    "    file_path = os.path.join(folder_path, file)\n",
    "    df = pd.read_csv(file_path, encoding='utf-8')\n",
    "    print(\"reading files...\" + file)\n",
    "\n",
    "    # 判断是否存在重复元素\n",
    "    if df.iloc[:, 0].nunique() == len(df):\n",
    "        print(\"all unique, no duplicat in \" + file)\n",
    "    else:\n",
    "        # 删除重复元素\n",
    "        df.drop_duplicates(subset=df.columns[0], keep='first', inplace=True)\n",
    "        # 保存修改后的CSV文件\n",
    "        df.to_csv(file_path, index=False, encoding='utf-8')\n",
    "        print(\"Duplicate values removed in \" + file + \". Updated file saved.\")\n",
    "        \n",
    "\n",
    "\n"
   ]
  },
  {
   "cell_type": "code",
   "execution_count": 4,
   "metadata": {},
   "outputs": [
    {
     "name": "stdout",
     "output_type": "stream",
     "text": [
      "file: 1261788454(utf8).csv\n",
      "file: 1261788454(utf8)_filtered.csv\n",
      "Data sorted and filtered in file: 1261788454(utf8).csv\n",
      "Total comments for rows with '评论数' > 10000: 2181175\n",
      "Data sorted and filtered in file: 1261788454(utf8)_filtered.csv\n",
      "Total comments for rows with '评论数' > 10000: 2181175\n",
      "Data sorted and filtered in file: 2559971200(original).csv\n",
      "Total comments for rows with '评论数' > 10000: 281430\n"
     ]
    }
   ],
   "source": [
    "# 要读取的文件夹路径\n",
    "folder_path = r\"C:\\Users\\alexr\\Desktop\\Project WEIBO\\weibo-crawler\\temp_data\"\n",
    "\n",
    "def print_existfile(csv_files):\n",
    "    print(\"file: \" + csv_files[0])\n",
    "    print(\"file: \" + csv_files[1])\n",
    "\n",
    "# 获取文件夹中所有csv文件\n",
    "csv_files = [f for f in os.listdir(folder_path) if f.endswith('.csv')]\n",
    "print_existfile(csv_files)\n",
    "\n",
    "# 遍历所有CSV文件\n",
    "for file in csv_files:\n",
    "    # 读取CSV文件\n",
    "    file_path = os.path.join(folder_path, file)\n",
    "    df = pd.read_csv(file_path, encoding='utf-8')\n",
    "    \n",
    "    # 按照 \"评论数\" 列降序排列\n",
    "    df_sorted = df.sort_values(by='评论数', ascending=False)\n",
    "    \n",
    "    # 仅保留 \"评论数\" 大于 10000 的行\n",
    "    df_filtered = df_sorted[df_sorted['评论数'] > 10000]\n",
    "    \n",
    "    # 计算评论数之和\n",
    "    total_comments = df_filtered['评论数'].sum()\n",
    "    \n",
    "    # 保存修改后的CSV文件\n",
    "    df_filtered.to_csv(file_path, index=False, encoding='utf-8')\n",
    "\n",
    "    print(\"Data sorted and filtered in file: \" + file)\n",
    "    print(\"Total comments for rows with '评论数' > 10000: \" + str(total_comments))\n",
    "\n"
   ]
  },
  {
   "cell_type": "code",
   "execution_count": 5,
   "metadata": {},
   "outputs": [
    {
     "name": "stdout",
     "output_type": "stream",
     "text": [
      "Columns filtered in file: 1261788454(utf8).csv\n",
      "Filtered data saved to file: C:\\Users\\alexr\\Desktop\\Project WEIBO\\weibo-crawler\\temp_data\\1261788454(utf8)_filtered.csv\n",
      "Columns filtered in file: 1261788454(utf8)_filtered.csv\n",
      "Filtered data saved to file: C:\\Users\\alexr\\Desktop\\Project WEIBO\\weibo-crawler\\temp_data\\1261788454(utf8)_filtered_filtered.csv\n",
      "Error: 'link' column not found in file: 2559971200(original).csv\n"
     ]
    }
   ],
   "source": [
    "# 遍历所有CSV文件\n",
    "for file in csv_files:\n",
    "    # 读取CSV文件\n",
    "    file_path = os.path.join(folder_path, file)\n",
    "    df = pd.read_csv(file_path, encoding='utf-8')\n",
    "\n",
    "    # 检查是否存在 \"link\" 列\n",
    "    if 'link' not in df.columns:\n",
    "        print(\"Error: 'link' column not found in file: \" + file)\n",
    "        continue\n",
    "\n",
    "    # 仅保留 \"link\" 列和 \"评论数\" 列\n",
    "    df_filtered = df[['link', '评论数']]\n",
    "    \n",
    "    # 构造新的文件名\n",
    "    new_file_path = file_path.replace('.csv', '_filtered.csv')\n",
    "    \n",
    "    # 保存筛选后的数据到新的CSV文件\n",
    "    df_filtered.to_csv(new_file_path, index=False, encoding='utf-8')\n",
    "\n",
    "    print(\"Columns filtered in file: \" + file)\n",
    "    print(\"Filtered data saved to file: \" + new_file_path)"
   ]
  },
  {
   "cell_type": "code",
   "execution_count": null,
   "metadata": {},
   "outputs": [],
   "source": []
  }
 ],
 "metadata": {
  "kernelspec": {
   "display_name": "Python 3",
   "language": "python",
   "name": "python3"
  },
  "language_info": {
   "codemirror_mode": {
    "name": "ipython",
    "version": 3
   },
   "file_extension": ".py",
   "mimetype": "text/x-python",
   "name": "python",
   "nbconvert_exporter": "python",
   "pygments_lexer": "ipython3",
   "version": "3.10.11"
  },
  "orig_nbformat": 4
 },
 "nbformat": 4,
 "nbformat_minor": 2
}
